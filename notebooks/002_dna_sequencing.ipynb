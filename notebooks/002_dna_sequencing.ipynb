{
 "cells": [
  {
   "cell_type": "raw",
   "metadata": {},
   "source": [
    "<script>\n",
    "code_show=true; \n",
    "function code_toggle() {\n",
    " if (code_show){\n",
    " $('div.input').hide();\n",
    " } else {\n",
    " $('div.input').show();\n",
    " }\n",
    " code_show = !code_show\n",
    "} \n",
    "$( document ).ready(code_toggle);\n",
    "</script>\n",
    "<a href=\"javascript:code_toggle()\">Show/Hide Code</a> "
   ]
  },
  {
   "cell_type": "code",
   "execution_count": 1,
   "metadata": {},
   "outputs": [],
   "source": [
    "%run \"../../shared/utilz_text_proc.ipynb\""
   ]
  },
  {
   "cell_type": "markdown",
   "metadata": {},
   "source": [
    "# DNA Sequencing\n",
    "**Dataset**\n",
    "- Kaggle: chimp, dog and human dna\n",
    "\n",
    "**Libraries**\n",
    "- `biopython`\n",
    "\n",
    "**Approach: NLP and k-mer counting**\n",
    "- convert dna sequences as a 'language' << 1-step sliding window??\n",
    "- b/c sequence vectors may not be of uniform length \n",
    "- "
   ]
  },
  {
   "cell_type": "markdown",
   "metadata": {},
   "source": [
    "## 1. Load Data\n",
    "and check sample distribution @ balance"
   ]
  },
  {
   "cell_type": "code",
   "execution_count": 2,
   "metadata": {},
   "outputs": [
    {
     "data": {
      "text/html": [
       "<div>\n",
       "<style scoped>\n",
       "    .dataframe tbody tr th:only-of-type {\n",
       "        vertical-align: middle;\n",
       "    }\n",
       "\n",
       "    .dataframe tbody tr th {\n",
       "        vertical-align: top;\n",
       "    }\n",
       "\n",
       "    .dataframe thead th {\n",
       "        text-align: right;\n",
       "    }\n",
       "</style>\n",
       "<table border=\"1\" class=\"dataframe\">\n",
       "  <thead>\n",
       "    <tr style=\"text-align: right;\">\n",
       "      <th></th>\n",
       "      <th>sequence</th>\n",
       "      <th>class</th>\n",
       "      <th>species</th>\n",
       "    </tr>\n",
       "  </thead>\n",
       "  <tbody>\n",
       "    <tr>\n",
       "      <th>2966</th>\n",
       "      <td>ATGAAGGGGCAGCAGAAAACAGCTGAAACGGAAGAGGGGACAGTGC...</td>\n",
       "      <td>6</td>\n",
       "      <td>human</td>\n",
       "    </tr>\n",
       "    <tr>\n",
       "      <th>1244</th>\n",
       "      <td>ATGGATATAGCAACAGGTCCCGAGTCGCTGGAGAGGTGCTTCCCTC...</td>\n",
       "      <td>6</td>\n",
       "      <td>chimp</td>\n",
       "    </tr>\n",
       "    <tr>\n",
       "      <th>258</th>\n",
       "      <td>ATGGAGCAGAAAATGAAATGTCCTCATTGTAAGGATCAGCTGGAGT...</td>\n",
       "      <td>1</td>\n",
       "      <td>human</td>\n",
       "    </tr>\n",
       "    <tr>\n",
       "      <th>3090</th>\n",
       "      <td>NACAACCACCTGGGCAACAACGATGGGGAGAACCTATCGGCGCCAT...</td>\n",
       "      <td>4</td>\n",
       "      <td>human</td>\n",
       "    </tr>\n",
       "    <tr>\n",
       "      <th>385</th>\n",
       "      <td>ATGGCCTGGGCTCTGAAGCTGCCTCTGGCCGACGAAGTGATTGAAT...</td>\n",
       "      <td>6</td>\n",
       "      <td>chimp</td>\n",
       "    </tr>\n",
       "  </tbody>\n",
       "</table>\n",
       "</div>"
      ],
      "text/plain": [
       "                                               sequence  class species\n",
       "2966  ATGAAGGGGCAGCAGAAAACAGCTGAAACGGAAGAGGGGACAGTGC...      6   human\n",
       "1244  ATGGATATAGCAACAGGTCCCGAGTCGCTGGAGAGGTGCTTCCCTC...      6   chimp\n",
       "258   ATGGAGCAGAAAATGAAATGTCCTCATTGTAAGGATCAGCTGGAGT...      1   human\n",
       "3090  NACAACCACCTGGGCAACAACGATGGGGAGAACCTATCGGCGCCAT...      4   human\n",
       "385   ATGGCCTGGGCTCTGAAGCTGCCTCTGGCCGACGAAGTGATTGAAT...      6   chimp"
      ]
     },
     "execution_count": 2,
     "metadata": {},
     "output_type": "execute_result"
    }
   ],
   "source": [
    "import os\n",
    "### --- DATA SETS\n",
    "DATA_DIR = '../../datasets/DNA'\n",
    "DATA_FRAMEZ = {}\n",
    "\n",
    "GENE_CLASS_FAMILY = [\n",
    "    'G protein coupled receptors',\n",
    "    'Tyrosine kinase',\n",
    "    'Tyrosine phosphate',\n",
    "    'Synthetase',\n",
    "    'Synthase',\n",
    "    'Ion channel',\n",
    "    'Transcriptor factor'\n",
    "]\n",
    "\n",
    "\n",
    "for f in os.listdir( DATA_DIR ):\n",
    "    k = f.split('_')[0]\n",
    "    DATA_FRAMEZ[ k ] = pd.read_table( f'{DATA_DIR}/{f}')\n",
    "    DATA_FRAMEZ[ k ]['species'] = k\n",
    "#     print( f'--- {f}: {DATA_FRAMEZ[k].shape} ---\\n{DATA_FRAMEZ[k].columns}')\n",
    "#     DATA_FRAMEZ[k]['class'].value_counts(normalize=True)\n",
    "#     print('\\n')\n",
    "full_db = pd.concat( [d for d in DATA_FRAMEZ.values()])\n",
    "\n",
    "full_db.sample(5)"
   ]
  },
  {
   "cell_type": "code",
   "execution_count": 3,
   "metadata": {},
   "outputs": [
    {
     "data": {
      "image/png": "[encoded data removed]",
      "text/plain": [
       "<Figure size 1000x750 with 3 Axes>"
      ]
     },
     "metadata": {},
     "output_type": "display_data"
    }
   ],
   "source": [
    "## Sample distribution\n",
    "nr, nc = 1, 3\n",
    "spz = full_db.species.unique()\n",
    "for i, sp in enumerate(spz):\n",
    "    plt.subplot(nr, nc, i+1)\n",
    "    sns.countplot( y='class', data=full_db[ full_db.species == sp] )\n",
    "    plt.title( sp ); \n",
    "plt.show();"
   ]
  },
  {
   "cell_type": "code",
   "execution_count": 4,
   "metadata": {},
   "outputs": [],
   "source": [
    "from sklearn.feature_extraction.text import CountVectorizer\n",
    "from sklearn.model_selection import train_test_split\n",
    "from sklearn.naive_bayes import MultinomialNB\n",
    "from sklearn.metrics import confusion_matrix, classification_report\n",
    "\n",
    "### Helperz\n",
    "def gen_kmer_motifs(seq, k=6):\n",
    "    return [ seq[x:x+k].lower() for x in range(len(seq) - k + 1)]\n",
    "\n",
    "def grid_count_plotz(colz_list, labelz, nc=3):\n",
    "    nl = len(colz_list) \n",
    "    nr = nl // nc\n",
    "    if nl % nc != 0:\n",
    "        nr += 1        \n",
    "    for i, sp in enumerate(colz_list):\n",
    "        plt.subplot(nr, nc, i+1)\n",
    "        sns.countplot( x=sp )\n",
    "        plt.ylabel('Class')\n",
    "        plt.title( f'{labelz[i]}' ); \n",
    "    plt.show();\n",
    "\n",
    "    \n",
    "def get_performance_report(actualz, predz):\n",
    "    cfmatrix = confusion_matrix(actualz, predz)\n",
    "    creport = classification_report(actualz, predz)\n",
    "    xtab = pd.crosstab( pd.Series(actualz, name='Actuals'), \n",
    "                       pd.Series(predz, name='Predictions'))\n",
    "    a = (actualz == predz).mean()\n",
    "    return a, cfmatrix, creport, xtab\n",
    "\n",
    "def predict_by_species(t, df, bow_cvectorizer, model, nb_alpha=0.1):\n",
    "    printHeadline(f'{t}', 'Setup and Train')\n",
    "    ### 2. Train/Test Split\n",
    "    perc_test, perc_val, rs = 0.2, 0.1, 43\n",
    "    \n",
    "    x_data, y_data = np.array(list(df['kmer_wordz'])) , np.array(list(df['class']))\n",
    "    print( f'x_data:\\t{x_data.shape} \\ty_data:\\t{y_data.shape}')\n",
    "    x_data = bow_cvectorizer.transform(x_data)\n",
    "    \n",
    "    x_train, x_test, y_train, y_test = train_test_split(x_data, y_data, test_size=perc_test, random_state=rs)\n",
    "    \n",
    "    # check is balanced\n",
    "    grid_count_plotz( [y_train, y_test], ['training set', 'testing set'], nc=4)\n",
    "\n",
    "    ### 3. Model train and prdict \n",
    "    model.fit(x_train, y_train)\n",
    "    y_predz = model.predict( x_test )\n",
    "\n",
    "    ### 5. Report \n",
    "    printHeadline(f'{t}', 'Model Performance Reports')\n",
    "\n",
    "    a, b, c, d = get_performance_report(y_test, y_predz)\n",
    "\n",
    "    print( f\"Accuracy: { (a*100) }%\") #'0.2f'%(a*100)\n",
    "    print( f\"\\n1. Classification Report: \\n{c}\")\n",
    "#     print( f\"\\n2. Confusion Matrix: \\n{b}\")\n",
    "    print( f\"\\n3. Confusion Matrix Cross Tab: \\n{d}\")\n",
    "    \n",
    "    return a\n"
   ]
  },
  {
   "cell_type": "code",
   "execution_count": 5,
   "metadata": {},
   "outputs": [
    {
     "data": {
      "text/html": [
       "<div>\n",
       "<style scoped>\n",
       "    .dataframe tbody tr th:only-of-type {\n",
       "        vertical-align: middle;\n",
       "    }\n",
       "\n",
       "    .dataframe tbody tr th {\n",
       "        vertical-align: top;\n",
       "    }\n",
       "\n",
       "    .dataframe thead th {\n",
       "        text-align: right;\n",
       "    }\n",
       "</style>\n",
       "<table border=\"1\" class=\"dataframe\">\n",
       "  <thead>\n",
       "    <tr style=\"text-align: right;\">\n",
       "      <th></th>\n",
       "      <th>566</th>\n",
       "      <th>3556</th>\n",
       "    </tr>\n",
       "  </thead>\n",
       "  <tbody>\n",
       "    <tr>\n",
       "      <th>sequence</th>\n",
       "      <td>ATGGAGCAGACTGAGAAACCAAAAGCATCTGCTGAGAAAGGACTCT...</td>\n",
       "      <td>ATGGCACATGTTTCTTCAGAAACTCAAGATGTTTCCCCCAAAGATG...</td>\n",
       "    </tr>\n",
       "    <tr>\n",
       "      <th>class</th>\n",
       "      <td>5</td>\n",
       "      <td>6</td>\n",
       "    </tr>\n",
       "    <tr>\n",
       "      <th>species</th>\n",
       "      <td>dog</td>\n",
       "      <td>human</td>\n",
       "    </tr>\n",
       "    <tr>\n",
       "      <th>kmer_wordz</th>\n",
       "      <td>atggag tggagc ggagca gagcag agcaga gcagac caga...</td>\n",
       "      <td>atggca tggcac ggcaca gcacat cacatg acatgt catg...</td>\n",
       "    </tr>\n",
       "  </tbody>\n",
       "</table>\n",
       "</div>"
      ],
      "text/plain": [
       "                                                         566   \\\n",
       "sequence    ATGGAGCAGACTGAGAAACCAAAAGCATCTGCTGAGAAAGGACTCT...   \n",
       "class                                                       5   \n",
       "species                                                   dog   \n",
       "kmer_wordz  atggag tggagc ggagca gagcag agcaga gcagac caga...   \n",
       "\n",
       "                                                         3556  \n",
       "sequence    ATGGCACATGTTTCTTCAGAAACTCAAGATGTTTCCCCCAAAGATG...  \n",
       "class                                                       6  \n",
       "species                                                 human  \n",
       "kmer_wordz  atggca tggcac ggcaca gcacat cacatg acatgt catg...  "
      ]
     },
     "execution_count": 5,
     "metadata": {},
     "output_type": "execute_result"
    },
    {
     "data": {
      "text/plain": [
       "CountVectorizer(analyzer='word', binary=False, decode_error='strict',\n",
       "                dtype=<class 'numpy.int64'>, encoding='utf-8', input='content',\n",
       "                lowercase=True, max_df=1.0, max_features=None, min_df=1,\n",
       "                ngram_range=(4, 4), preprocessor=None, stop_words=None,\n",
       "                strip_accents=None, token_pattern='(?u)\\\\b\\\\w\\\\w+\\\\b',\n",
       "                tokenizer=None, vocabulary=None)"
      ]
     },
     "execution_count": 5,
     "metadata": {},
     "output_type": "execute_result"
    },
    {
     "data": {
      "text/plain": [
       "MultinomialNB(alpha=0.1, class_prior=None, fit_prior=True)"
      ]
     },
     "execution_count": 5,
     "metadata": {},
     "output_type": "execute_result"
    }
   ],
   "source": [
    "### 1. Encode:\n",
    "## 1.a. NLP gen wordz\n",
    "full_db['kmer_wordz'] = full_db.apply( lambda x: gen_kmer_motifs(x['sequence']), axis=1)\n",
    "full_db['kmer_wordz'] = full_db.apply(lambda x: ' '.join(x['kmer_wordz']), axis=1)\n",
    "full_db.sample(2).T\n",
    "\n",
    "## 1.b. bag of words vectorization <<< check index order not messed\n",
    "bow_cvectorizer = CountVectorizer(ngram_range=(4,4))\n",
    "bow_cvectorizer.fit( full_db['kmer_wordz'])\n",
    "\n",
    "###2. Model spec\n",
    "nb_model = MultinomialNB( alpha=0.1)\n",
    "\n",
    "nb_model"
   ]
  },
  {
   "cell_type": "code",
   "execution_count": 6,
   "metadata": {
    "scrolled": false
   },
   "outputs": [
    {
     "name": "stdout",
     "output_type": "stream",
     "text": [
      "\n",
      "------ 1. CHIMP : Setup and Train ------\n",
      "x_data:\t(1682,) \ty_data:\t(1682,)\n"
     ]
    },
    {
     "data": {
      "image/png": "[encoded data removed]",
      "text/plain": [
       "<Figure size 1000x750 with 2 Axes>"
      ]
     },
     "metadata": {},
     "output_type": "display_data"
    },
    {
     "name": "stdout",
     "output_type": "stream",
     "text": [
      "\n",
      "------ 2. CHIMP : Model Performance Reports ------\n",
      "Accuracy: 91.0979228486647%\n",
      "\n",
      "1. Classification Report: \n",
      "              precision    recall  f1-score   support\n",
      "\n",
      "           0       1.00      0.76      0.87        38\n",
      "           1       1.00      0.98      0.99        42\n",
      "           2       1.00      0.89      0.94        28\n",
      "           3       0.98      0.88      0.93        52\n",
      "           4       0.98      0.85      0.91        53\n",
      "           5       1.00      0.83      0.91        18\n",
      "           6       0.79      1.00      0.88       106\n",
      "\n",
      "    accuracy                           0.91       337\n",
      "   macro avg       0.96      0.89      0.92       337\n",
      "weighted avg       0.93      0.91      0.91       337\n",
      "\n",
      "\n",
      "3. Confusion Matrix Cross Tab: \n",
      "Predictions   0   1   2   3   4   5    6\n",
      "Actuals                                 \n",
      "0            29   0   0   0   1   0    8\n",
      "1             0  41   0   0   0   0    1\n",
      "2             0   0  25   0   0   0    3\n",
      "3             0   0   0  46   0   0    6\n",
      "4             0   0   0   1  45   0    7\n",
      "5             0   0   0   0   0  15    3\n",
      "6             0   0   0   0   0   0  106\n",
      "\n",
      "------ 3. DOG : Setup and Train ------\n",
      "x_data:\t(820,) \ty_data:\t(820,)\n"
     ]
    },
    {
     "data": {
      "image/png": "[encoded data removed]",
      "text/plain": [
       "<Figure size 1000x750 with 2 Axes>"
      ]
     },
     "metadata": {},
     "output_type": "display_data"
    },
    {
     "name": "stdout",
     "output_type": "stream",
     "text": [
      "\n",
      "------ 4. DOG : Model Performance Reports ------\n",
      "Accuracy: 67.6829268292683%\n",
      "\n",
      "1. Classification Report: \n",
      "              precision    recall  f1-score   support\n",
      "\n",
      "           0       0.56      0.82      0.67        28\n",
      "           1       0.86      0.67      0.75         9\n",
      "           2       1.00      0.44      0.62        18\n",
      "           3       0.71      0.71      0.71        14\n",
      "           4       0.78      0.51      0.62        35\n",
      "           5       0.75      0.30      0.43        10\n",
      "           6       0.64      0.86      0.74        50\n",
      "\n",
      "    accuracy                           0.68       164\n",
      "   macro avg       0.76      0.62      0.65       164\n",
      "weighted avg       0.72      0.68      0.67       164\n",
      "\n",
      "\n",
      "3. Confusion Matrix Cross Tab: \n",
      "Predictions   0  1  2   3   4  5   6\n",
      "Actuals                             \n",
      "0            23  0  0   0   1  0   4\n",
      "1             0  6  0   1   0  0   2\n",
      "2             5  1  8   0   0  0   4\n",
      "3             0  0  0  10   0  0   4\n",
      "4             8  0  0   2  18  0   7\n",
      "5             3  0  0   0   1  3   3\n",
      "6             2  0  0   1   3  1  43\n",
      "\n",
      "------ 5. HUMAN : Setup and Train ------\n",
      "x_data:\t(4380,) \ty_data:\t(4380,)\n"
     ]
    },
    {
     "data": {
      "image/png": "[encoded data removed]",
      "text/plain": [
       "<Figure size 1000x750 with 2 Axes>"
      ]
     },
     "metadata": {},
     "output_type": "display_data"
    },
    {
     "name": "stdout",
     "output_type": "stream",
     "text": [
      "\n",
      "------ 6. HUMAN : Model Performance Reports ------\n",
      "Accuracy: 98.40182648401826%\n",
      "\n",
      "1. Classification Report: \n",
      "              precision    recall  f1-score   support\n",
      "\n",
      "           0       0.97      0.97      0.97       118\n",
      "           1       1.00      0.99      0.99        95\n",
      "           2       1.00      1.00      1.00        63\n",
      "           3       0.99      1.00      1.00       129\n",
      "           4       0.99      0.95      0.97       138\n",
      "           5       0.98      0.98      0.98        54\n",
      "           6       0.97      0.99      0.98       279\n",
      "\n",
      "    accuracy                           0.98       876\n",
      "   macro avg       0.99      0.98      0.99       876\n",
      "weighted avg       0.98      0.98      0.98       876\n",
      "\n",
      "\n",
      "3. Confusion Matrix Cross Tab: \n",
      "Predictions    0   1   2    3    4   5    6\n",
      "Actuals                                    \n",
      "0            115   0   0    1    0   0    2\n",
      "1              0  94   0    0    0   0    1\n",
      "2              0   0  63    0    0   0    0\n",
      "3              0   0   0  129    0   0    0\n",
      "4              3   0   0    0  131   0    4\n",
      "5              0   0   0    0    0  53    1\n",
      "6              0   0   0    0    1   1  277\n"
     ]
    },
    {
     "data": {
      "image/png": "[encoded data removed]",
      "text/plain": [
       "<Figure size 1000x750 with 1 Axes>"
      ]
     },
     "metadata": {},
     "output_type": "display_data"
    }
   ],
   "source": [
    "#### 3. run for each species\n",
    "nr, nc = 1, 3\n",
    "spz = full_db.species.unique()\n",
    "accuraciez = []\n",
    "for i, sp in enumerate(spz):\n",
    "    accuraciez.append( \n",
    "        predict_by_species(sp, \n",
    "                           full_db[full_db['species'] == sp] ,\n",
    "                           bow_cvectorizer,\n",
    "                           nb_model) \n",
    "    )\n",
    "    \n",
    "# plt.plot(accuraciez);\n",
    "sns.barplot(x=spz, y=accuraciez, hue=spz)\n",
    "plt.title('Accuracies');"
   ]
  },
  {
   "cell_type": "markdown",
   "metadata": {},
   "source": [
    "----\n",
    "\n",
    "# Step by Step sandbox\n",
    "\n",
    "\n",
    "-\n",
    "\n",
    "\n",
    "-\n"
   ]
  },
  {
   "cell_type": "markdown",
   "metadata": {},
   "source": [
    "## 2. Encoding\n",
    "- k-mer motifs\n",
    "- bag of words (`sklearn::CuntVectorizer`  "
   ]
  },
  {
   "cell_type": "code",
   "execution_count": 7,
   "metadata": {},
   "outputs": [],
   "source": [
    "def gen_kmer_motifs(seq, k=6):\n",
    "    return [ seq[x:x+k].lower() for x in range(len(seq) - k + 1)]"
   ]
  },
  {
   "cell_type": "code",
   "execution_count": 8,
   "metadata": {},
   "outputs": [
    {
     "data": {
      "text/html": [
       "<div>\n",
       "<style scoped>\n",
       "    .dataframe tbody tr th:only-of-type {\n",
       "        vertical-align: middle;\n",
       "    }\n",
       "\n",
       "    .dataframe tbody tr th {\n",
       "        vertical-align: top;\n",
       "    }\n",
       "\n",
       "    .dataframe thead th {\n",
       "        text-align: right;\n",
       "    }\n",
       "</style>\n",
       "<table border=\"1\" class=\"dataframe\">\n",
       "  <thead>\n",
       "    <tr style=\"text-align: right;\">\n",
       "      <th></th>\n",
       "      <th>3935</th>\n",
       "      <th>4010</th>\n",
       "    </tr>\n",
       "  </thead>\n",
       "  <tbody>\n",
       "    <tr>\n",
       "      <th>sequence</th>\n",
       "      <td>ATGGGAGGCCGCGTCTTTCTCGCATTCTGTGTCTGGCTGACTCTGC...</td>\n",
       "      <td>GAGCTGCTTAACAACCTGGGCAACTTCATCAACAGAGCTGGGATGT...</td>\n",
       "    </tr>\n",
       "    <tr>\n",
       "      <th>class</th>\n",
       "      <td>0</td>\n",
       "      <td>3</td>\n",
       "    </tr>\n",
       "    <tr>\n",
       "      <th>species</th>\n",
       "      <td>human</td>\n",
       "      <td>human</td>\n",
       "    </tr>\n",
       "    <tr>\n",
       "      <th>kmer_wordz</th>\n",
       "      <td>[atggga, tgggag, gggagg, ggaggc, gaggcc, aggcc...</td>\n",
       "      <td>[gagctg, agctgc, gctgct, ctgctt, tgctta, gctta...</td>\n",
       "    </tr>\n",
       "  </tbody>\n",
       "</table>\n",
       "</div>"
      ],
      "text/plain": [
       "                                                         3935  \\\n",
       "sequence    ATGGGAGGCCGCGTCTTTCTCGCATTCTGTGTCTGGCTGACTCTGC...   \n",
       "class                                                       0   \n",
       "species                                                 human   \n",
       "kmer_wordz  [atggga, tgggag, gggagg, ggaggc, gaggcc, aggcc...   \n",
       "\n",
       "                                                         4010  \n",
       "sequence    GAGCTGCTTAACAACCTGGGCAACTTCATCAACAGAGCTGGGATGT...  \n",
       "class                                                       3  \n",
       "species                                                 human  \n",
       "kmer_wordz  [gagctg, agctgc, gctgct, ctgctt, tgctta, gctta...  "
      ]
     },
     "execution_count": 8,
     "metadata": {},
     "output_type": "execute_result"
    }
   ],
   "source": [
    "#gen_kmer_motifs('THE QUICK BROWN FOX')\n",
    "## dO FOR HUMAN DATA FIRST\n",
    "full_db['kmer_wordz'] = full_db.apply( lambda x: gen_kmer_motifs(x['sequence']), axis=1)\n",
    "full_db.sample(2).T"
   ]
  },
  {
   "cell_type": "code",
   "execution_count": 9,
   "metadata": {},
   "outputs": [],
   "source": [
    "#### --- Test with Humna DNA first\n",
    "df = full_db[ full_db.species == 'human']"
   ]
  },
  {
   "cell_type": "code",
   "execution_count": 10,
   "metadata": {},
   "outputs": [
    {
     "name": "stdout",
     "output_type": "stream",
     "text": [
      "x_data:\t(4380,) \n",
      "y_data:\t(4380,)\n",
      "\tE.G::\tatgccc tgcccc gcccca ccccaa cc...\t===>\t4\n"
     ]
    }
   ],
   "source": [
    "## define x_data and y_data\n",
    "x_data, y_data = np.array([' '.join(x) for x in df['kmer_wordz']]), np.array(list(df['class']))\n",
    "\n",
    "print( f'x_data:\\t{x_data.shape} \\ny_data:\\t{y_data.shape}')\n",
    "print( f'\\tE.G::\\t{x_data[0][:30]}...\\t===>\\t{y_data[0]}')\n"
   ]
  },
  {
   "cell_type": "code",
   "execution_count": 11,
   "metadata": {},
   "outputs": [
    {
     "data": {
      "text/plain": [
       "CountVectorizer(analyzer='word', binary=False, decode_error='strict',\n",
       "                dtype=<class 'numpy.int64'>, encoding='utf-8', input='content',\n",
       "                lowercase=True, max_df=1.0, max_features=None, min_df=1,\n",
       "                ngram_range=(4, 4), preprocessor=None, stop_words=None,\n",
       "                strip_accents=None, token_pattern='(?u)\\\\b\\\\w\\\\w+\\\\b',\n",
       "                tokenizer=None, vocabulary=None)"
      ]
     },
     "execution_count": 11,
     "metadata": {},
     "output_type": "execute_result"
    }
   ],
   "source": [
    "### bag of words vectorization\n",
    "from sklearn.feature_extraction.text import CountVectorizer\n",
    "bow_cvectorizer = CountVectorizer(ngram_range=(4,4))\n",
    "bow_cvectorizer.fit( x_data)"
   ]
  },
  {
   "cell_type": "code",
   "execution_count": 12,
   "metadata": {},
   "outputs": [
    {
     "data": {
      "text/plain": [
       "(4380, 232414)"
      ]
     },
     "execution_count": 12,
     "metadata": {},
     "output_type": "execute_result"
    },
    {
     "data": {
      "text/plain": [
       "<1x232414 sparse matrix of type '<class 'numpy.int64'>'\n",
       "\twith 197 stored elements in Compressed Sparse Row format>"
      ]
     },
     "execution_count": 12,
     "metadata": {},
     "output_type": "execute_result"
    }
   ],
   "source": [
    "## vectorize\n",
    "xi_data = bow_cvectorizer.transform( x_data)\n",
    "xi_data.shape\n",
    "xi_data[0]"
   ]
  },
  {
   "cell_type": "markdown",
   "metadata": {},
   "source": [
    "## 3. Split train, test, validation"
   ]
  },
  {
   "cell_type": "code",
   "execution_count": 13,
   "metadata": {},
   "outputs": [
    {
     "name": "stdout",
     "output_type": "stream",
     "text": [
      "x_train:\t(3504, 232414) \n",
      "x_test:\t(876, 232414)\n"
     ]
    },
    {
     "data": {
      "image/png": "[encoded data removed]",
      "text/plain": [
       "<Figure size 1000x750 with 2 Axes>"
      ]
     },
     "metadata": {},
     "output_type": "display_data"
    }
   ],
   "source": [
    "from sklearn.model_selection import train_test_split\n",
    "\n",
    "perc_test, perc_val = 0.2, 0.1\n",
    "\n",
    "x_train, x_test, y_train, y_test = train_test_split(\n",
    "    xi_data, y_data, \n",
    "    test_size = perc_test, random_state=42\n",
    ")\n",
    "\n",
    "print( f'x_train:\\t{x_train.shape} \\nx_test:\\t{x_test.shape}')\n",
    "\n",
    "nr, nc = 1, 2 ## 3 if validate \n",
    "for i, sp in enumerate([y_train, y_test]):\n",
    "    plt.subplot(nr, nc, i+1)\n",
    "    sns.countplot( y=sp )\n",
    "    plt.ylabel('Class')\n",
    "    plt.title( f'{type(sp)}__{i+1}' ); \n",
    "plt.show();"
   ]
  },
  {
   "cell_type": "markdown",
   "metadata": {},
   "source": [
    "## 4. Classify - NaiveBayes\n",
    "- TODO: compare other modelz"
   ]
  },
  {
   "cell_type": "code",
   "execution_count": 14,
   "metadata": {},
   "outputs": [
    {
     "data": {
      "text/plain": [
       "MultinomialNB(alpha=0.1, class_prior=None, fit_prior=True)"
      ]
     },
     "execution_count": 14,
     "metadata": {},
     "output_type": "execute_result"
    }
   ],
   "source": [
    "### TODO: param tuning\n",
    "from sklearn.naive_bayes import MultinomialNB\n",
    "\n",
    "model = MultinomialNB( alpha=0.1)\n",
    "\n",
    "model.fit(x_train, y_train)"
   ]
  },
  {
   "cell_type": "code",
   "execution_count": 15,
   "metadata": {},
   "outputs": [
    {
     "data": {
      "text/plain": [
       "numpy.ndarray"
      ]
     },
     "execution_count": 15,
     "metadata": {},
     "output_type": "execute_result"
    }
   ],
   "source": [
    "### PREDICTIONS\n",
    "y_predz = model.predict( x_test)\n",
    "type(y_predz)"
   ]
  },
  {
   "cell_type": "markdown",
   "metadata": {},
   "source": [
    "## 5. Model Performance\n",
    "- confusion matrix \n",
    "- "
   ]
  },
  {
   "cell_type": "code",
   "execution_count": 16,
   "metadata": {},
   "outputs": [
    {
     "name": "stdout",
     "output_type": "stream",
     "text": [
      "\n",
      "------ 7.  : Model Performance Reports ------\n",
      "Accuracy: 98.40182648401826%\n",
      "\n",
      "1. Classification Report: \n",
      "              precision    recall  f1-score   support\n",
      "\n",
      "           0       0.98      0.97      0.98       102\n",
      "           1       1.00      0.98      0.99       106\n",
      "           2       1.00      1.00      1.00        78\n",
      "           3       0.99      0.99      0.99       125\n",
      "           4       0.99      0.96      0.98       149\n",
      "           5       1.00      1.00      1.00        51\n",
      "           6       0.96      0.99      0.98       265\n",
      "\n",
      "    accuracy                           0.98       876\n",
      "   macro avg       0.99      0.99      0.99       876\n",
      "weighted avg       0.98      0.98      0.98       876\n",
      "\n",
      "\n",
      "2. Confusion Matrix: \n",
      "[[ 99   0   0   0   1   0   2]\n",
      " [  0 104   0   0   0   0   2]\n",
      " [  0   0  78   0   0   0   0]\n",
      " [  0   0   0 124   0   0   1]\n",
      " [  1   0   0   0 143   0   5]\n",
      " [  0   0   0   0   0  51   0]\n",
      " [  1   0   0   1   0   0 263]]\n",
      "\n",
      "3. Cross Tab: \n",
      "Predictions   0    1   2    3    4   5    6\n",
      "Actuals                                    \n",
      "0            99    0   0    0    1   0    2\n",
      "1             0  104   0    0    0   0    2\n",
      "2             0    0  78    0    0   0    0\n",
      "3             0    0   0  124    0   0    1\n",
      "4             1    0   0    0  143   0    5\n",
      "5             0    0   0    0    0  51    0\n",
      "6             1    0   0    1    0   0  263\n"
     ]
    }
   ],
   "source": [
    "from sklearn.metrics import confusion_matrix, classification_report\n",
    "\n",
    "def get_performance_report(actualz, predz):\n",
    "    cfmatrix = confusion_matrix(actualz, predz)\n",
    "    creport = classification_report(actualz, predz)\n",
    "    xtab = pd.crosstab( pd.Series(actualz, name='Actuals'), \n",
    "                       pd.Series(predz, name='Predictions'))\n",
    "    a = (actualz == predz).mean()\n",
    "    return a, cfmatrix, creport, xtab\n",
    "\n",
    "printHeadline('', 'Model Performance Reports')\n",
    "\n",
    "\n",
    "\n",
    "a, b, c, d = get_performance_report(y_test, y_predz)\n",
    "\n",
    "print( f\"Accuracy: { (a*100) }%\") #'0.2f'%(a*100)\n",
    "print( f\"\\n1. Classification Report: \\n{c}\")\n",
    "print( f\"\\n2. Confusion Matrix: \\n{b}\")\n",
    "print( f\"\\n3. Cross Tab: \\n{d}\")"
   ]
  },
  {
   "cell_type": "code",
   "execution_count": null,
   "metadata": {},
   "outputs": [],
   "source": []
  }
 ],
 "metadata": {
  "kernelspec": {
   "display_name": "Python 3",
   "language": "python",
   "name": "python3"
  },
  "language_info": {
   "codemirror_mode": {
    "name": "ipython",
    "version": 3
   },
   "file_extension": ".py",
   "mimetype": "text/x-python",
   "name": "python",
   "nbconvert_exporter": "python",
   "pygments_lexer": "ipython3",
   "version": "3.7.6"
  }
 },
 "nbformat": 4,
 "nbformat_minor": 4
}
